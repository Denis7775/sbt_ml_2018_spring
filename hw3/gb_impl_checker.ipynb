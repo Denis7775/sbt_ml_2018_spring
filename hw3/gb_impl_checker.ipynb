{
 "cells": [
  {
   "cell_type": "code",
   "execution_count": null,
   "metadata": {
    "collapsed": false
   },
   "outputs": [],
   "source": [
    "# coding=utf-8\n",
    "\n",
    "from sklearn.model_selection import cross_val_score\n",
    "from gb_impl_Kudyakov import SimpleGB\n",
    "import numpy as np\n",
    "import os\n",
    "import sys\n",
    "import imp\n",
    "import signal\n",
    "import pandas\n",
    "import traceback\n",
    "\n",
    "SCRIPT_DIR = os.path.dirname(os.path.realpath(__file__))\n",
    "\n",
    "\n",
    "def signal_handler(signum, frame):\n",
    "    raise Exception(\"Timed out!\")\n",
    "\n",
    "\n",
    "class Checker(object):\n",
    "    def __init__(self, data_path=SCRIPT_DIR + '/HR.csv'):\n",
    "        df = pandas.read_csv(data_path)\n",
    "        target = 'left'\n",
    "        features = [c for c in df if c != target]\n",
    "        self.target = np.array(df[target])\n",
    "        self.data = np.array(df[features])\n",
    "        self.application = 0\n",
    "\n",
    "    def check(self, script_path):\n",
    "        try:\n",
    "            signal.signal(signal.SIGALRM, signal_handler)\n",
    "            # Time limit на эту задачу 1 минута\n",
    "            signal.alarm(60)\n",
    "            gb_impl = imp.load_source('gb_impl_{}'.format(self.application), script_path)\n",
    "            self.application += 1\n",
    "            # Обучаться будет на 100 итерациях, чтобы одинаковый масштаб был\n",
    "            algo = gb_impl.SimpleGB(\n",
    "                tree_params_dict=gb_impl.TREE_PARAMS_DICT,\n",
    "                iters=100,\n",
    "                tau=gb_impl.TAU\n",
    "            )\n",
    "            return np.mean(cross_val_score(algo, self.data, self.target, cv=3, scoring='accuracy'))\n",
    "        except:\n",
    "            traceback.print_exc()\n",
    "            return None\n",
    "\n",
    "\n",
    "if __name__ == '__main__':\n",
    "    print(Checker().check(SCRIPT_DIR + '/gb_impl_Kudyakov.py'))"
   ]
  },
  {
   "cell_type": "code",
   "execution_count": null,
   "metadata": {
    "collapsed": true
   },
   "outputs": [],
   "source": []
  }
 ],
 "metadata": {
  "kernelspec": {
   "display_name": "Python [py35]",
   "language": "python",
   "name": "Python [py35]"
  },
  "language_info": {
   "codemirror_mode": {
    "name": "ipython",
    "version": 3
   },
   "file_extension": ".py",
   "mimetype": "text/x-python",
   "name": "python",
   "nbconvert_exporter": "python",
   "pygments_lexer": "ipython3",
   "version": "3.5.4"
  }
 },
 "nbformat": 4,
 "nbformat_minor": 0
}
